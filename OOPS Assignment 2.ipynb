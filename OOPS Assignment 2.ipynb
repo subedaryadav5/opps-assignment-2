{
 "cells": [
  {
   "cell_type": "code",
   "execution_count": 2,
   "id": "a0aa2cf3-02a4-4161-abbe-5f6aa487c9ea",
   "metadata": {},
   "outputs": [],
   "source": [
    "\"\"\"Q1. What is Abstraction in OOps? Explain with an example.\n",
    "\n",
    "Ans : Abstraction is a method through which we can create a abstract class, which is actually a bluprint or structure for\n",
    "     it's subclass. when a subclass inherits the abstract class then all the method defined in abstract class become\n",
    "     available to it, we can use the methods defined in abstract class in our owan way. pre defined class \"abc\" is \n",
    "     used to call abstract class\"\"\"\n",
    "  \n",
    "# Eg :\n",
    "\n",
    "import abc\n",
    "class vehicle_details:\n",
    "    \n",
    "    @abc.abstractmethod\n",
    "    def make(self):\n",
    "        pass\n",
    "    \n",
    "    @abc.abstractmethod\n",
    "    def model(self):\n",
    "        pass\n",
    "    \n",
    "    @abc.abstractmethod\n",
    "    def speed(self):\n",
    "        pass"
   ]
  },
  {
   "cell_type": "code",
   "execution_count": 4,
   "id": "225fcc06-c34a-4196-b558-75dab0ceae5c",
   "metadata": {},
   "outputs": [],
   "source": [
    "class person1(vehicle_details):\n",
    "    \n",
    "    def make(self):\n",
    "        return \"BMW\"\n",
    "    def model(self):\n",
    "        return \"i7\"\n",
    "    def speed(self):\n",
    "        return \"top speed is 480\"\n",
    "    \n",
    "class person2(vehicle_details):\n",
    "    \n",
    "    def make(self):\n",
    "        return \"Audi\"\n",
    "    def model(self):\n",
    "        return \"R8\"\n",
    "    def speed(self):\n",
    "        return \"top speed is 700\""
   ]
  },
  {
   "cell_type": "code",
   "execution_count": 6,
   "id": "76c91a97-5cdc-49f3-b9e1-51a865570abd",
   "metadata": {},
   "outputs": [],
   "source": [
    "obj_person1=person1()\n",
    "obj_person2=person2()"
   ]
  },
  {
   "cell_type": "code",
   "execution_count": 8,
   "id": "c5b6f1e9-6006-42f3-9794-f86408118818",
   "metadata": {},
   "outputs": [
    {
     "data": {
      "text/plain": [
       "'BMW'"
      ]
     },
     "execution_count": 8,
     "metadata": {},
     "output_type": "execute_result"
    }
   ],
   "source": [
    "obj_person1.make()"
   ]
  },
  {
   "cell_type": "code",
   "execution_count": 9,
   "id": "4c389cd3-1ce3-4a4e-b368-9f31a8be94f7",
   "metadata": {},
   "outputs": [
    {
     "data": {
      "text/plain": [
       "'Audi'"
      ]
     },
     "execution_count": 9,
     "metadata": {},
     "output_type": "execute_result"
    }
   ],
   "source": [
    "obj_person2.make()"
   ]
  },
  {
   "cell_type": "code",
   "execution_count": 10,
   "id": "56aa36e0-86cc-4d55-86fd-4481d115de07",
   "metadata": {},
   "outputs": [],
   "source": [
    "\"\"\"Q2. Differentiate between Abstraction and Encapsulation. Explain with an example.\n",
    "\n",
    "Ans : Abstraction is a concept through which we can create a abstract class, which is actually a bluprint or structure \n",
    "     for it's subclass. when a subclass inherits the abstract class then all the method defined in abstract class become\n",
    "     available to it, we can use the methods defined in abstract class in our owan way. pre defined class \"abc\" is \n",
    "     used to call abstract class\n",
    "     \n",
    "     Encapsulation is a concept by which we can hide or encapsulate the instance defined in the class so the the \n",
    "     external user is not able to directly access or modify that. However, they can access or modify that by a specific\n",
    "     function defined for that.\"\"\"\n",
    "\n",
    "#example : abstraction\n",
    "\n",
    "import abc \n",
    "\n",
    "class details:\n",
    "    \n",
    "    @abc.abstractmethod\n",
    "    def Student_name(self):\n",
    "        pass\n",
    "    \n",
    "    @abc.abstractmethod\n",
    "    def Student_age(self):\n",
    "        pass"
   ]
  },
  {
   "cell_type": "code",
   "execution_count": 11,
   "id": "fb36d331-272a-43df-a96a-84b90115cbf4",
   "metadata": {},
   "outputs": [],
   "source": [
    "class class1(details):\n",
    "    \n",
    "    def Student_name(self):\n",
    "        print(\"My name is Subedar Yadav\")\n",
    "    def Student_age(self):\n",
    "        print(\"I'm 27 years old\")"
   ]
  },
  {
   "cell_type": "code",
   "execution_count": 12,
   "id": "8a23d851-f28f-4172-b0ff-b454469d0176",
   "metadata": {},
   "outputs": [],
   "source": [
    "class class2(details):\n",
    "    \n",
    "    def Student_name(self):\n",
    "        return \"My name is Arush Yadav\"\n",
    "    def Student_age(self):\n",
    "        return \"I'm 4 years old\""
   ]
  },
  {
   "cell_type": "code",
   "execution_count": 13,
   "id": "c5e42a0e-821b-40f0-9645-2f99bc033f4f",
   "metadata": {},
   "outputs": [],
   "source": [
    "person1=class1()\n",
    "person2=class2()"
   ]
  },
  {
   "cell_type": "code",
   "execution_count": 14,
   "id": "f045b8c6-e1f7-4900-96ff-f4081dc0ad2a",
   "metadata": {},
   "outputs": [
    {
     "name": "stdout",
     "output_type": "stream",
     "text": [
      "My name is Subedar Yadav\n"
     ]
    }
   ],
   "source": [
    "person1.Student_name()"
   ]
  },
  {
   "cell_type": "code",
   "execution_count": 15,
   "id": "1c388915-f910-4541-9d91-cf457fbe587d",
   "metadata": {},
   "outputs": [
    {
     "data": {
      "text/plain": [
       "'My name is Arush Yadav'"
      ]
     },
     "execution_count": 15,
     "metadata": {},
     "output_type": "execute_result"
    }
   ],
   "source": [
    "person2.Student_name()"
   ]
  },
  {
   "cell_type": "code",
   "execution_count": 29,
   "id": "5e9ebabc-6b0d-4035-a60b-20a1fed072c0",
   "metadata": {},
   "outputs": [],
   "source": [
    "# Example : Encapsulation : we need to put \"__\" before defining the instance to hide that\n",
    "\n",
    "class student_details:\n",
    "    \n",
    "    def __init__(self, name, age, roll_no, phone):\n",
    "        self.__name=name\n",
    "        self.__age=age\n",
    "        self.__roll_no=roll_no\n",
    "        self.__phone=phone\n",
    "        \n",
    "#we won't be able to access these instance directly, below are the methods defined to acess the instances.\n",
    "\n",
    "    def change_phone(self, phone):\n",
    "        self.__phone=phone\n",
    "        \n",
    "    def get_phone(self):\n",
    "        return self.__phone"
   ]
  },
  {
   "cell_type": "code",
   "execution_count": 30,
   "id": "d60edcef-f163-47fe-b8bd-75a54a8a76a5",
   "metadata": {},
   "outputs": [],
   "source": [
    "Student1=student_details(\"Mohan\", 24,\"R14\",2581473695)"
   ]
  },
  {
   "cell_type": "code",
   "execution_count": 31,
   "id": "c6360cb3-35ac-429d-9c05-655025682394",
   "metadata": {},
   "outputs": [
    {
     "data": {
      "text/plain": [
       "2581473695"
      ]
     },
     "execution_count": 31,
     "metadata": {},
     "output_type": "execute_result"
    }
   ],
   "source": [
    "Student1.get_phone()"
   ]
  },
  {
   "cell_type": "code",
   "execution_count": 32,
   "id": "ef97bc82-e96c-4e77-8276-e7f34e1d3c25",
   "metadata": {},
   "outputs": [],
   "source": [
    "Student1.change_phone(324654554545)"
   ]
  },
  {
   "cell_type": "code",
   "execution_count": 33,
   "id": "0ceb1678-2d6b-4529-8183-94150ff20062",
   "metadata": {},
   "outputs": [
    {
     "data": {
      "text/plain": [
       "324654554545"
      ]
     },
     "execution_count": 33,
     "metadata": {},
     "output_type": "execute_result"
    }
   ],
   "source": [
    "Student1.get_phone()"
   ]
  },
  {
   "cell_type": "code",
   "execution_count": null,
   "id": "91c6f792-ac60-4eab-a917-032a43153b8b",
   "metadata": {},
   "outputs": [],
   "source": [
    "\"\"\"Q3. What is abc module in python? Why is it used?\n",
    "\n",
    "Answer : abc(abstract base class) is a predefined module in python which is used to define abstract method. \n",
    "         Abstract method cannot be called directly. So, abc model is import to define them.\"\"\""
   ]
  },
  {
   "cell_type": "code",
   "execution_count": 3,
   "id": "93dcd909-9acd-40e9-a296-01749a1b521f",
   "metadata": {},
   "outputs": [],
   "source": [
    "\"\"\"Q4. How can we achieve data abstraction?\n",
    "\n",
    "Answer : Data abstraction can be achieved be calling the abstract method.\"\"\"\n",
    "\n",
    "# Example :\n",
    "\n",
    "import abc\n",
    "\n",
    "class shape:\n",
    "    \n",
    "    @abc.abstractmethod\n",
    "    def edges(self):\n",
    "        pass\n",
    "    \n",
    "class circle(shape):\n",
    "    def edges(self):\n",
    "        return \"Circle has no edges\"\n",
    "    \n",
    "class triange(shape):\n",
    "    def edges(self):\n",
    "        return \"Triangle has 3 edges\"\n",
    "    \n",
    "Circle=circle()\n",
    "Triange=triange()"
   ]
  },
  {
   "cell_type": "code",
   "execution_count": 7,
   "id": "8a0bfe4e-fccf-4f05-a0eb-304137673470",
   "metadata": {},
   "outputs": [
    {
     "data": {
      "text/plain": [
       "'Circle has no edges'"
      ]
     },
     "execution_count": 7,
     "metadata": {},
     "output_type": "execute_result"
    }
   ],
   "source": [
    "Circle.edges()"
   ]
  },
  {
   "cell_type": "code",
   "execution_count": 8,
   "id": "a0caa873-facc-4d30-9d65-422bcbf341c8",
   "metadata": {},
   "outputs": [
    {
     "data": {
      "text/plain": [
       "'Triangle has 3 edges'"
      ]
     },
     "execution_count": 8,
     "metadata": {},
     "output_type": "execute_result"
    }
   ],
   "source": [
    "Triange.edges()"
   ]
  },
  {
   "cell_type": "code",
   "execution_count": 13,
   "id": "c861beb9-47f3-41a6-9e13-8886134317c2",
   "metadata": {},
   "outputs": [],
   "source": [
    "\"\"\"Q5. Can we create an instance of an abstract class? Explain your answer.\n",
    "\n",
    "Answer : No, we can't create a instance of a abstract class as this provides bluprint to other class and provide common\n",
    "         interface to all the subclasses. They define abstract methods that must be implemented by their concrete \n",
    "         subclasses, but they don't provide a complete implementation themselves. Due to this incomplete implementation, \n",
    "         abstract classes are not intended to be instantiated directly.\"\"\"\n",
    "\n",
    "\n",
    "import abc\n",
    "\n",
    "class test:\n",
    "    \n",
    "    @abc.abstractmethod\n",
    "    def __init__(self, a,b):\n",
    "        self.a=a\n",
    "        self.b=b\n",
    "        \n",
    "    def add(self):\n",
    "        pass\n",
    "    \n",
    "class Mohan(test):\n",
    "    \n",
    "    def add(self,c,d):\n",
    "        s\n",
    "        "
   ]
  },
  {
   "cell_type": "code",
   "execution_count": 14,
   "id": "9624f509-76be-41a9-9589-a954622b9786",
   "metadata": {},
   "outputs": [],
   "source": [
    "Obj=test(5,6)"
   ]
  },
  {
   "cell_type": "code",
   "execution_count": 15,
   "id": "9421d391-1a9d-42e1-a0d2-68cc85d49aad",
   "metadata": {},
   "outputs": [
    {
     "data": {
      "text/plain": [
       "11"
      ]
     },
     "execution_count": 15,
     "metadata": {},
     "output_type": "execute_result"
    }
   ],
   "source": [
    "Obj.add()"
   ]
  },
  {
   "cell_type": "code",
   "execution_count": null,
   "id": "34d17371-5063-4bcd-9e52-5e4e35acc25e",
   "metadata": {},
   "outputs": [],
   "source": []
  }
 ],
 "metadata": {
  "kernelspec": {
   "display_name": "Python 3 (ipykernel)",
   "language": "python",
   "name": "python3"
  },
  "language_info": {
   "codemirror_mode": {
    "name": "ipython",
    "version": 3
   },
   "file_extension": ".py",
   "mimetype": "text/x-python",
   "name": "python",
   "nbconvert_exporter": "python",
   "pygments_lexer": "ipython3",
   "version": "3.10.8"
  }
 },
 "nbformat": 4,
 "nbformat_minor": 5
}
